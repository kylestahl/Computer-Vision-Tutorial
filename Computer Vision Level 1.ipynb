{
 "cells": [
  {
   "cell_type": "markdown",
   "metadata": {},
   "source": [
    "# Computer Vision \n",
    "# Level 1"
   ]
  },
  {
   "cell_type": "markdown",
   "metadata": {},
   "source": [
    "#### Kyle Stahl\n",
    "#### Feb. 2018"
   ]
  },
  {
   "cell_type": "markdown",
   "metadata": {},
   "source": [
    "## **Introduction**"
   ]
  },
  {
   "cell_type": "markdown",
   "metadata": {},
   "source": [
    "This analysis will walk through a (relatively) simple computer vision example on the MNIST dataset. If you are unfamililar with the MNIST data, it is a set of thousands of 28x28 pixel black and white images of handwritten numeric digits 0-9. The goal is to teach the computer to be able to recognize the digit that is written in each image. Think of this as what your ATM or mobile phone banking app is doing when you insert, or take a picture of a check. That software will locate the area of the check with the total amount, and then attempt to figure out what that amount is based of the written digits. \n",
    "\n",
    "This will require some python programming knowledge. A more complicated version of the same analysis performed in R can be found here: (http://rpubs.com/kstahl/MNIST-1). The Open CV python package is used to import the image data into numpy arrays, then pandas and Scikit-Learn are used for the data maniputlation and modeling. Links to the relavent documentation can be found within the analysis below. This analysis will also require some introductory statistics knowledge. I know some statistics courses cover logistic regression, but some do not. If you need a refresher on what logistic regression is, or if you are thinking that you know what linear regression is, but not _logistic_ watch this video at 1.5 speed: https://www.youtube.com/watch?v=nz-FrbAa8dY. "
   ]
  },
  {
   "cell_type": "code",
   "execution_count": 1,
   "metadata": {
    "collapsed": true
   },
   "outputs": [],
   "source": [
    "# Change directory to where the photos are downloaded\n",
    "import os\n",
    "os.chdir(\"C:\\\\Users\\\\kyles\\\\Downloads\\\\TrainingSet\")\n",
    "\n",
    "# OpenCV package will be used to bring images in as numpy arrays\n",
    "import cv2\n",
    "\n",
    "# Matplotlib used to show the images\n",
    "from matplotlib import pyplot as plt\n",
    "\n",
    "# tqdm is used to track the progress of loops\n",
    "from tqdm import tqdm\n",
    "\n",
    "# Numpy and pandas for data manipulation\n",
    "import pandas as pd\n",
    "import numpy as np\n",
    "\n",
    "# Scikit-learn for model building\n",
    "from sklearn.linear_model import LogisticRegression\n",
    "from sklearn.model_selection import train_test_split"
   ]
  },
  {
   "cell_type": "markdown",
   "metadata": {},
   "source": [
    "## **Processing an Image as an Array of Numbers**"
   ]
  },
  {
   "cell_type": "markdown",
   "metadata": {},
   "source": [
    "We will use the `cv2.imread()` function, which will take an image file, and read the Red, Green, and Blue values into a numpy array pixel by pixel https://docs.opencv.org/3.0-beta/doc/py_tutorials/py_gui/py_image_display/py_image_display.html. When the image is imported, it is stored in a 3-D numpy array. The first two dimensions are the height and width of the pixels of the image. The third dimension has three solts for RGB values 0-255. Since the image is grey scale, all three RGB values are equivalent. A few random pixel values are shown below. "
   ]
  },
  {
   "cell_type": "code",
   "execution_count": 2,
   "metadata": {},
   "outputs": [
    {
     "name": "stdout",
     "output_type": "stream",
     "text": [
      "Array dimensions: (28, 28, 3)\n",
      "Some RGB values from randomly selected pixels\n",
      "[0 0 0]\n",
      "[154 154 154]\n",
      "[0 0 0]\n",
      "[12 12 12]\n",
      "[8 8 8]\n",
      "[151 151 151]\n",
      "[0 0 0]\n",
      "[16 16 16]\n",
      "[19 19 19]\n"
     ]
    }
   ],
   "source": [
    "img = cv2.imread(\"3/img_9.jpg\")\n",
    "print(\"Array dimensions: {}\".format(img.shape))\n",
    "print(\"Some RGB values from randomly selected pixels\")\n",
    "for i in [11,14,17]:\n",
    "    for j in [9,12,21]:\n",
    "        print(img[i,j])"
   ]
  },
  {
   "cell_type": "markdown",
   "metadata": {},
   "source": [
    "Here, I will show you what the picutre looks like with its 28x28 pixels in RGB format. Now hopefully you have a better visualization of what we are working with. "
   ]
  },
  {
   "cell_type": "code",
   "execution_count": 3,
   "metadata": {},
   "outputs": [
    {
     "data": {
      "image/png": "[encoded data removed]",
      "text/plain": [
       "<matplotlib.figure.Figure at 0x1fe73f03f98>"
      ]
     },
     "metadata": {},
     "output_type": "display_data"
    }
   ],
   "source": [
    "plt.imshow(img)\n",
    "plt.show()"
   ]
  },
  {
   "cell_type": "markdown",
   "metadata": {},
   "source": [
    "Since this is just a grey scale image, we do not need all three RGB dimensions, we can just use one color. In other words, we can represent each pixel with one number which will tell how much **white** is in each pixel. Since all of the RGB values are the same for each pixel, we can just average the those for each pixel and it will not change the image. Below, I print out the exact same pixel values and image to show that it is unchanged. "
   ]
  },
  {
   "cell_type": "code",
   "execution_count": 4,
   "metadata": {},
   "outputs": [
    {
     "name": "stdout",
     "output_type": "stream",
     "text": [
      "Array dimensions: (28, 28)\n",
      "0.0\n",
      "154.0\n",
      "0.0\n",
      "12.0\n",
      "8.0\n",
      "151.0\n",
      "0.0\n",
      "16.0\n",
      "19.0\n"
     ]
    },
    {
     "data": {
      "image/png": "[encoded data removed]",
      "text/plain": [
       "<matplotlib.figure.Figure at 0x1fe790cb080>"
      ]
     },
     "metadata": {},
     "output_type": "display_data"
    }
   ],
   "source": [
    "flat = img.mean(axis=2)\n",
    "print(\"Array dimensions: {}\".format(flat.shape))\n",
    "for i in [11,14,17]:\n",
    "    for j in [9,12,21]:\n",
    "        print(flat[i,j])\n",
    "        \n",
    "plt.imshow(flat,cmap='gray')\n",
    "plt.show()"
   ]
  },
  {
   "cell_type": "markdown",
   "metadata": {},
   "source": [
    "Finally, we want to flatten the pixels of this image so that it can be organized in a 1 x 784 row, instead of a 28 x 28 matrix. That way we will be able to stack all of the image data in one dataframe. Our training data has 42,000 images, and each image has 784 pixels. So the resulting data frame will be 42,000 rows by 784 columns, and each value will represent the intensity of a pixel."
   ]
  },
  {
   "cell_type": "code",
   "execution_count": 5,
   "metadata": {},
   "outputs": [
    {
     "name": "stdout",
     "output_type": "stream",
     "text": [
      "Array dimensions: (784,)\n"
     ]
    }
   ],
   "source": [
    "row = flat.flatten()\n",
    "print(\"Array dimensions: {}\".format(row.shape))"
   ]
  },
  {
   "cell_type": "markdown",
   "metadata": {},
   "source": [
    "## **Importing All the Images**"
   ]
  },
  {
   "cell_type": "markdown",
   "metadata": {},
   "source": [
    "Now we need to import all of the images, and keep track of which images have which digit. I downloaded the pictures in jpg format from https://www.kaggle.com/scolianni/mnistasjpg/data. They are in a folder locally on my computer, and each digit has it's own subfolder. So all of 0's are separated from the 1's and 2's and so on and so forth. \n",
    "\n",
    "Below I coded two different ways to import the images. The first looks shorter, it would be considered more of a depth-first-search. It goes into each folder one at a time and imports all of the images from that sub-folder, then it moves on to the next. In other words, it imports all the 0's, then moves onto the 1's, then 2's... and each time it switches folders it tracks what digit it is importing. The second way looks like more lines of code, but executes in a shorter time. It goes image-by-image and looks for each image through all of the folders.\n",
    "\n",
    "Either way, I found it was much faster to initialize an array of zeros before starting since you already know what the final size is going to be, rather then continuously appending to a dataframe or array. In both cases, we follow the image preprocessing steps above. \n",
    "\n",
    "I put progress bars for the loops with the `tqdm` package to be able to visualize the progress https://pypi.python.org/pypi/tqdm. The first method has 10 progress bars because each folder is searched independently, the second only has one because all the folders are being searched at once. "
   ]
  },
  {
   "cell_type": "code",
   "execution_count": 6,
   "metadata": {},
   "outputs": [
    {
     "name": "stderr",
     "output_type": "stream",
     "text": [
      "100%|██████████████████████████████████████████████████████████████████████████| 42000/42000 [00:11<00:00, 3517.99it/s]\n",
      "100%|██████████████████████████████████████████████████████████████████████████| 42000/42000 [00:14<00:00, 2874.21it/s]\n",
      "100%|██████████████████████████████████████████████████████████████████████████| 42000/42000 [00:14<00:00, 2970.47it/s]\n",
      "100%|██████████████████████████████████████████████████████████████████████████| 42000/42000 [00:14<00:00, 2912.69it/s]\n",
      "100%|██████████████████████████████████████████████████████████████████████████| 42000/42000 [00:11<00:00, 3639.97it/s]\n",
      "100%|██████████████████████████████████████████████████████████████████████████| 42000/42000 [00:10<00:00, 4100.02it/s]\n",
      "100%|██████████████████████████████████████████████████████████████████████████| 42000/42000 [00:12<00:00, 3294.47it/s]\n",
      "100%|██████████████████████████████████████████████████████████████████████████| 42000/42000 [00:11<00:00, 3739.69it/s]\n",
      "100%|██████████████████████████████████████████████████████████████████████████| 42000/42000 [00:08<00:00, 5137.13it/s]\n",
      "100%|██████████████████████████████████████████████████████████████████████████| 42000/42000 [00:11<00:00, 3791.61it/s]\n"
     ]
    }
   ],
   "source": [
    "data = np.zeros([42000,784])\n",
    "label = []\n",
    "for i in range(10):\n",
    "    for j in tqdm(range(42000)):\n",
    "        img = cv2.imread(str(i) + \"/img_\" + str(j) + \".jpg\")\n",
    "        if img is not None:\n",
    "            data[j,:] = img.mean(axis = 2).flatten()\n",
    "            label.append(i)  \n",
    "            \n",
    "# Here there are 10 progress bars because we loop through\n",
    "# the ten digits individually"
   ]
  },
  {
   "cell_type": "code",
   "execution_count": 7,
   "metadata": {},
   "outputs": [
    {
     "name": "stderr",
     "output_type": "stream",
     "text": [
      "100%|███████████████████████████████████████████████████████████████████████████| 42000/42000 [01:20<00:00, 522.74it/s]\n"
     ]
    }
   ],
   "source": [
    "data = np.zeros([42000,784])\n",
    "label = []\n",
    "for i in tqdm(range(42000)):\n",
    "    img = cv2.imread(\"0/img_\" + str(i) + \".jpg\")\n",
    "    if img is not None:\n",
    "        data[i,:] = img.mean(axis = 2).flatten()\n",
    "        label.append(0)\n",
    "        continue\n",
    "    img = cv2.imread(\"1/img_\" + str(i) + \".jpg\")\n",
    "    if img is not None:\n",
    "        data[i,:] = img.mean(axis = 2).flatten()\n",
    "        label.append(1)\n",
    "        continue\n",
    "    img = cv2.imread(\"2/img_\" + str(i) + \".jpg\")\n",
    "    if img is not None:\n",
    "        data[i,:] = img.mean(axis = 2).flatten()\n",
    "        label.append(2)\n",
    "        continue\n",
    "    img = cv2.imread(\"3/img_\" + str(i) + \".jpg\")\n",
    "    if img is not None:\n",
    "        data[i,:] = img.mean(axis = 2).flatten()\n",
    "        label.append(3)\n",
    "        continue\n",
    "    img = cv2.imread(\"4/img_\" + str(i) + \".jpg\")\n",
    "    if img is not None:\n",
    "        data[i,:] = img.mean(axis = 2).flatten()\n",
    "        label.append(4)\n",
    "        continue\n",
    "    img = cv2.imread(\"5/img_\" + str(i) + \".jpg\")\n",
    "    if img is not None:\n",
    "        data[i,:] = img.mean(axis = 2).flatten()\n",
    "        label.append(5)\n",
    "        continue\n",
    "    img = cv2.imread(\"6/img_\" + str(i) + \".jpg\")\n",
    "    if img is not None:\n",
    "        data[i,:] = img.mean(axis = 2).flatten()\n",
    "        label.append(6)\n",
    "        continue    \n",
    "    img = cv2.imread(\"7/img_\" + str(i) + \".jpg\")\n",
    "    if img is not None:\n",
    "        data[i,:] = img.mean(axis = 2).flatten()\n",
    "        label.append(7)\n",
    "        continue\n",
    "    img = cv2.imread(\"8/img_\" + str(i) + \".jpg\")\n",
    "    if img is not None:\n",
    "        data[i,:] = img.mean(axis = 2).flatten()\n",
    "        label.append(8)\n",
    "        continue\n",
    "    img = cv2.imread(\"9/img_\" + str(i) + \".jpg\")\n",
    "    if img is not None:\n",
    "        data[i,:] = img.mean(axis = 2).flatten()\n",
    "        label.append(9)\n",
    "        continue\n",
    "        \n",
    "# Now there is only one progress bar because we are searching through all the folders at once."
   ]
  },
  {
   "cell_type": "markdown",
   "metadata": {},
   "source": [
    "Now we put the results in a 42,000 x 784 data frame. One row for each image and one column for each pixel. If you are not familiar with data frames, you can check out the official pandas introduction here: https://pandas.pydata.org/pandas-docs/stable/10min.html. Or watch this short video which describes data frames in the R programming language, but the concept is the exact same. https://www.youtube.com/watch?v=9f2g7RN5N0I. Then we print out 10 rows just to see what our data is currently looking like."
   ]
  },
  {
   "cell_type": "code",
   "execution_count": 8,
   "metadata": {},
   "outputs": [
    {
     "data": {
      "text/html": [
       "<div>\n",
       "<style>\n",
       "    .dataframe thead tr:only-child th {\n",
       "        text-align: right;\n",
       "    }\n",
       "\n",
       "    .dataframe thead th {\n",
       "        text-align: left;\n",
       "    }\n",
       "\n",
       "    .dataframe tbody tr th {\n",
       "        vertical-align: top;\n",
       "    }\n",
       "</style>\n",
       "<table border=\"1\" class=\"dataframe\">\n",
       "  <thead>\n",
       "    <tr style=\"text-align: right;\">\n",
       "      <th></th>\n",
       "      <th>0</th>\n",
       "      <th>1</th>\n",
       "      <th>2</th>\n",
       "      <th>3</th>\n",
       "      <th>4</th>\n",
       "      <th>5</th>\n",
       "      <th>6</th>\n",
       "      <th>7</th>\n",
       "      <th>8</th>\n",
       "      <th>9</th>\n",
       "      <th>...</th>\n",
       "      <th>774</th>\n",
       "      <th>775</th>\n",
       "      <th>776</th>\n",
       "      <th>777</th>\n",
       "      <th>778</th>\n",
       "      <th>779</th>\n",
       "      <th>780</th>\n",
       "      <th>781</th>\n",
       "      <th>782</th>\n",
       "      <th>783</th>\n",
       "    </tr>\n",
       "  </thead>\n",
       "  <tbody>\n",
       "    <tr>\n",
       "      <th>0</th>\n",
       "      <td>0.0</td>\n",
       "      <td>0.0</td>\n",
       "      <td>0.0</td>\n",
       "      <td>0.0</td>\n",
       "      <td>0.0</td>\n",
       "      <td>0.0</td>\n",
       "      <td>0.0</td>\n",
       "      <td>0.0</td>\n",
       "      <td>0.0</td>\n",
       "      <td>0.0</td>\n",
       "      <td>...</td>\n",
       "      <td>0.0</td>\n",
       "      <td>0.0</td>\n",
       "      <td>0.0</td>\n",
       "      <td>0.0</td>\n",
       "      <td>0.0</td>\n",
       "      <td>0.0</td>\n",
       "      <td>0.0</td>\n",
       "      <td>0.0</td>\n",
       "      <td>0.0</td>\n",
       "      <td>0.0</td>\n",
       "    </tr>\n",
       "    <tr>\n",
       "      <th>1</th>\n",
       "      <td>3.0</td>\n",
       "      <td>0.0</td>\n",
       "      <td>0.0</td>\n",
       "      <td>3.0</td>\n",
       "      <td>7.0</td>\n",
       "      <td>3.0</td>\n",
       "      <td>0.0</td>\n",
       "      <td>3.0</td>\n",
       "      <td>0.0</td>\n",
       "      <td>11.0</td>\n",
       "      <td>...</td>\n",
       "      <td>0.0</td>\n",
       "      <td>0.0</td>\n",
       "      <td>0.0</td>\n",
       "      <td>0.0</td>\n",
       "      <td>0.0</td>\n",
       "      <td>0.0</td>\n",
       "      <td>0.0</td>\n",
       "      <td>0.0</td>\n",
       "      <td>0.0</td>\n",
       "      <td>0.0</td>\n",
       "    </tr>\n",
       "    <tr>\n",
       "      <th>2</th>\n",
       "      <td>0.0</td>\n",
       "      <td>0.0</td>\n",
       "      <td>0.0</td>\n",
       "      <td>0.0</td>\n",
       "      <td>0.0</td>\n",
       "      <td>0.0</td>\n",
       "      <td>0.0</td>\n",
       "      <td>0.0</td>\n",
       "      <td>1.0</td>\n",
       "      <td>0.0</td>\n",
       "      <td>...</td>\n",
       "      <td>0.0</td>\n",
       "      <td>0.0</td>\n",
       "      <td>0.0</td>\n",
       "      <td>0.0</td>\n",
       "      <td>0.0</td>\n",
       "      <td>0.0</td>\n",
       "      <td>0.0</td>\n",
       "      <td>0.0</td>\n",
       "      <td>0.0</td>\n",
       "      <td>0.0</td>\n",
       "    </tr>\n",
       "    <tr>\n",
       "      <th>3</th>\n",
       "      <td>0.0</td>\n",
       "      <td>0.0</td>\n",
       "      <td>0.0</td>\n",
       "      <td>0.0</td>\n",
       "      <td>0.0</td>\n",
       "      <td>2.0</td>\n",
       "      <td>8.0</td>\n",
       "      <td>0.0</td>\n",
       "      <td>0.0</td>\n",
       "      <td>3.0</td>\n",
       "      <td>...</td>\n",
       "      <td>0.0</td>\n",
       "      <td>0.0</td>\n",
       "      <td>13.0</td>\n",
       "      <td>11.0</td>\n",
       "      <td>1.0</td>\n",
       "      <td>6.0</td>\n",
       "      <td>0.0</td>\n",
       "      <td>0.0</td>\n",
       "      <td>0.0</td>\n",
       "      <td>0.0</td>\n",
       "    </tr>\n",
       "    <tr>\n",
       "      <th>4</th>\n",
       "      <td>0.0</td>\n",
       "      <td>4.0</td>\n",
       "      <td>6.0</td>\n",
       "      <td>0.0</td>\n",
       "      <td>0.0</td>\n",
       "      <td>0.0</td>\n",
       "      <td>0.0</td>\n",
       "      <td>0.0</td>\n",
       "      <td>1.0</td>\n",
       "      <td>0.0</td>\n",
       "      <td>...</td>\n",
       "      <td>0.0</td>\n",
       "      <td>0.0</td>\n",
       "      <td>0.0</td>\n",
       "      <td>0.0</td>\n",
       "      <td>0.0</td>\n",
       "      <td>0.0</td>\n",
       "      <td>0.0</td>\n",
       "      <td>0.0</td>\n",
       "      <td>0.0</td>\n",
       "      <td>0.0</td>\n",
       "    </tr>\n",
       "    <tr>\n",
       "      <th>5</th>\n",
       "      <td>0.0</td>\n",
       "      <td>0.0</td>\n",
       "      <td>0.0</td>\n",
       "      <td>0.0</td>\n",
       "      <td>0.0</td>\n",
       "      <td>0.0</td>\n",
       "      <td>0.0</td>\n",
       "      <td>0.0</td>\n",
       "      <td>5.0</td>\n",
       "      <td>0.0</td>\n",
       "      <td>...</td>\n",
       "      <td>0.0</td>\n",
       "      <td>0.0</td>\n",
       "      <td>0.0</td>\n",
       "      <td>0.0</td>\n",
       "      <td>0.0</td>\n",
       "      <td>0.0</td>\n",
       "      <td>0.0</td>\n",
       "      <td>0.0</td>\n",
       "      <td>0.0</td>\n",
       "      <td>0.0</td>\n",
       "    </tr>\n",
       "    <tr>\n",
       "      <th>6</th>\n",
       "      <td>4.0</td>\n",
       "      <td>0.0</td>\n",
       "      <td>0.0</td>\n",
       "      <td>2.0</td>\n",
       "      <td>2.0</td>\n",
       "      <td>0.0</td>\n",
       "      <td>0.0</td>\n",
       "      <td>1.0</td>\n",
       "      <td>5.0</td>\n",
       "      <td>1.0</td>\n",
       "      <td>...</td>\n",
       "      <td>0.0</td>\n",
       "      <td>0.0</td>\n",
       "      <td>0.0</td>\n",
       "      <td>0.0</td>\n",
       "      <td>0.0</td>\n",
       "      <td>0.0</td>\n",
       "      <td>0.0</td>\n",
       "      <td>0.0</td>\n",
       "      <td>0.0</td>\n",
       "      <td>0.0</td>\n",
       "    </tr>\n",
       "    <tr>\n",
       "      <th>7</th>\n",
       "      <td>0.0</td>\n",
       "      <td>0.0</td>\n",
       "      <td>4.0</td>\n",
       "      <td>8.0</td>\n",
       "      <td>1.0</td>\n",
       "      <td>0.0</td>\n",
       "      <td>0.0</td>\n",
       "      <td>3.0</td>\n",
       "      <td>0.0</td>\n",
       "      <td>0.0</td>\n",
       "      <td>...</td>\n",
       "      <td>8.0</td>\n",
       "      <td>0.0</td>\n",
       "      <td>0.0</td>\n",
       "      <td>6.0</td>\n",
       "      <td>3.0</td>\n",
       "      <td>0.0</td>\n",
       "      <td>0.0</td>\n",
       "      <td>0.0</td>\n",
       "      <td>0.0</td>\n",
       "      <td>0.0</td>\n",
       "    </tr>\n",
       "    <tr>\n",
       "      <th>8</th>\n",
       "      <td>0.0</td>\n",
       "      <td>0.0</td>\n",
       "      <td>0.0</td>\n",
       "      <td>0.0</td>\n",
       "      <td>0.0</td>\n",
       "      <td>0.0</td>\n",
       "      <td>0.0</td>\n",
       "      <td>0.0</td>\n",
       "      <td>4.0</td>\n",
       "      <td>3.0</td>\n",
       "      <td>...</td>\n",
       "      <td>0.0</td>\n",
       "      <td>0.0</td>\n",
       "      <td>0.0</td>\n",
       "      <td>0.0</td>\n",
       "      <td>0.0</td>\n",
       "      <td>0.0</td>\n",
       "      <td>0.0</td>\n",
       "      <td>0.0</td>\n",
       "      <td>0.0</td>\n",
       "      <td>0.0</td>\n",
       "    </tr>\n",
       "    <tr>\n",
       "      <th>9</th>\n",
       "      <td>0.0</td>\n",
       "      <td>2.0</td>\n",
       "      <td>0.0</td>\n",
       "      <td>0.0</td>\n",
       "      <td>5.0</td>\n",
       "      <td>2.0</td>\n",
       "      <td>0.0</td>\n",
       "      <td>0.0</td>\n",
       "      <td>0.0</td>\n",
       "      <td>3.0</td>\n",
       "      <td>...</td>\n",
       "      <td>0.0</td>\n",
       "      <td>0.0</td>\n",
       "      <td>0.0</td>\n",
       "      <td>0.0</td>\n",
       "      <td>0.0</td>\n",
       "      <td>0.0</td>\n",
       "      <td>0.0</td>\n",
       "      <td>0.0</td>\n",
       "      <td>0.0</td>\n",
       "      <td>0.0</td>\n",
       "    </tr>\n",
       "  </tbody>\n",
       "</table>\n",
       "<p>10 rows × 784 columns</p>\n",
       "</div>"
      ],
      "text/plain": [
       "   0    1    2    3    4    5    6    7    8     9   ...   774  775   776  \\\n",
       "0  0.0  0.0  0.0  0.0  0.0  0.0  0.0  0.0  0.0   0.0 ...   0.0  0.0   0.0   \n",
       "1  3.0  0.0  0.0  3.0  7.0  3.0  0.0  3.0  0.0  11.0 ...   0.0  0.0   0.0   \n",
       "2  0.0  0.0  0.0  0.0  0.0  0.0  0.0  0.0  1.0   0.0 ...   0.0  0.0   0.0   \n",
       "3  0.0  0.0  0.0  0.0  0.0  2.0  8.0  0.0  0.0   3.0 ...   0.0  0.0  13.0   \n",
       "4  0.0  4.0  6.0  0.0  0.0  0.0  0.0  0.0  1.0   0.0 ...   0.0  0.0   0.0   \n",
       "5  0.0  0.0  0.0  0.0  0.0  0.0  0.0  0.0  5.0   0.0 ...   0.0  0.0   0.0   \n",
       "6  4.0  0.0  0.0  2.0  2.0  0.0  0.0  1.0  5.0   1.0 ...   0.0  0.0   0.0   \n",
       "7  0.0  0.0  4.0  8.0  1.0  0.0  0.0  3.0  0.0   0.0 ...   8.0  0.0   0.0   \n",
       "8  0.0  0.0  0.0  0.0  0.0  0.0  0.0  0.0  4.0   3.0 ...   0.0  0.0   0.0   \n",
       "9  0.0  2.0  0.0  0.0  5.0  2.0  0.0  0.0  0.0   3.0 ...   0.0  0.0   0.0   \n",
       "\n",
       "    777  778  779  780  781  782  783  \n",
       "0   0.0  0.0  0.0  0.0  0.0  0.0  0.0  \n",
       "1   0.0  0.0  0.0  0.0  0.0  0.0  0.0  \n",
       "2   0.0  0.0  0.0  0.0  0.0  0.0  0.0  \n",
       "3  11.0  1.0  6.0  0.0  0.0  0.0  0.0  \n",
       "4   0.0  0.0  0.0  0.0  0.0  0.0  0.0  \n",
       "5   0.0  0.0  0.0  0.0  0.0  0.0  0.0  \n",
       "6   0.0  0.0  0.0  0.0  0.0  0.0  0.0  \n",
       "7   6.0  3.0  0.0  0.0  0.0  0.0  0.0  \n",
       "8   0.0  0.0  0.0  0.0  0.0  0.0  0.0  \n",
       "9   0.0  0.0  0.0  0.0  0.0  0.0  0.0  \n",
       "\n",
       "[10 rows x 784 columns]"
      ]
     },
     "execution_count": 8,
     "metadata": {},
     "output_type": "execute_result"
    }
   ],
   "source": [
    "Y = pd.Series(label)\n",
    "X = pd.DataFrame(data)\n",
    "X.head(10)"
   ]
  },
  {
   "cell_type": "markdown",
   "metadata": {},
   "source": [
    "## **Predictive Modeling**"
   ]
  },
  {
   "cell_type": "markdown",
   "metadata": {},
   "source": [
    "Now that the data is cleaned, we can start modeling. The first step is to split our images into a training and a testing set. We could go through and randomly select images ourselves, but luckily the people who developed scikit-learn made a function to do this for us. Check out how it works here: http://scikit-learn.org/stable/modules/generated/sklearn.model_selection.train_test_split.html We initialize a random state so we get the same train-test split each time we run it, and I decided on having 60% in the training and 40% in the test set. No real science behind that decision, sometimes you just need to choose something; 70/30 and 80/20 would've worked just as well. Generally, you want more in the training set than the test set, and this training takes a significant amount of time so I chose to have a relatively smaller training set. "
   ]
  },
  {
   "cell_type": "code",
   "execution_count": 9,
   "metadata": {
    "collapsed": true
   },
   "outputs": [],
   "source": [
    "# train test split\n",
    "Xtrain, Xtest, Ytrain, Ytest = train_test_split(X, Y, test_size=0.40, random_state=1848)"
   ]
  },
  {
   "cell_type": "code",
   "execution_count": 10,
   "metadata": {},
   "outputs": [
    {
     "name": "stdout",
     "output_type": "stream",
     "text": [
      "Train Set X variables: (29400, 784)\n",
      "Train Set Y variables: (29400,)\n",
      "Test Set X variables: (12600, 784)\n",
      "Test Set Y variables: (12600,)\n"
     ]
    }
   ],
   "source": [
    "print(\"Train Set X variables: {}\".format(Xtrain.shape))\n",
    "print(\"Train Set Y variables: {}\".format(Ytrain.shape))\n",
    "print(\"Test Set X variables: {}\".format(Xtest.shape))\n",
    "print(\"Test Set Y variables: {}\".format(Ytest.shape))"
   ]
  },
  {
   "cell_type": "markdown",
   "metadata": {},
   "source": [
    "We are going to train 10 separate logistic regression models. Each one can predict binary 0 or 1 values. Therefore, we need to transform our dependent `Y` variable into 10 different dependent variables, each one containing only 0's and 1's. For example, the variable `sevens` will contain an array of 0's and 1's, a `1` represents that the digit written in that image is a _7_, a `0` would represent any other digit image. And likewise for the other images. "
   ]
  },
  {
   "cell_type": "code",
   "execution_count": 11,
   "metadata": {
    "collapsed": true
   },
   "outputs": [],
   "source": [
    "zeros  = (Ytrain == 0)\n",
    "ones   = (Ytrain == 1)\n",
    "twos   = (Ytrain == 2)\n",
    "threes = (Ytrain == 3)\n",
    "fours  = (Ytrain == 4)\n",
    "fives  = (Ytrain == 5)\n",
    "sixs   = (Ytrain == 6)\n",
    "sevens = (Ytrain == 7)\n",
    "eights = (Ytrain == 8)\n",
    "nines  = (Ytrain == 9)"
   ]
  },
  {
   "cell_type": "markdown",
   "metadata": {},
   "source": [
    "Next step is to initialize all ten of the models. This doesn't do anything besides create an object that will later be used train, store, and utilize the models. There are many parameters that can be passed for this initialization; I chose to specify a solver that is faster on larger datasets. And a max number of iterations was just set to a realtively large number that did not take to long to run. None of the models converged at this maximum. Check out the documentation for more information. http://scikit-learn.org/stable/modules/generated/sklearn.linear_model.LogisticRegression.html. "
   ]
  },
  {
   "cell_type": "code",
   "execution_count": 12,
   "metadata": {
    "collapsed": true
   },
   "outputs": [],
   "source": [
    "iszero = LogisticRegression(solver = 'saga', max_iter = 1000)\n",
    "isone = LogisticRegression(solver = 'saga', max_iter = 1000)\n",
    "istwo = LogisticRegression(solver = 'saga', max_iter = 1000)\n",
    "isthree = LogisticRegression(solver = 'saga', max_iter = 1000)\n",
    "isfour = LogisticRegression(solver = 'saga', max_iter = 1000)\n",
    "isfive = LogisticRegression(solver = 'saga', max_iter = 1000)\n",
    "issix = LogisticRegression(solver = 'saga', max_iter = 1000)\n",
    "isseven = LogisticRegression(solver = 'saga', max_iter = 1000)\n",
    "iseight = LogisticRegression(solver = 'saga', max_iter = 1000)\n",
    "isnine = LogisticRegression(solver = 'saga', max_iter = 1000)"
   ]
  },
  {
   "cell_type": "markdown",
   "metadata": {},
   "source": [
    "After we have initialized the models, we can train each model with the training set, and the binary vectors created above. This will find the optimal parameters for each model to predict if an image is a 0, or 3, or 8, or so on..."
   ]
  },
  {
   "cell_type": "code",
   "execution_count": 13,
   "metadata": {},
   "outputs": [
    {
     "name": "stderr",
     "output_type": "stream",
     "text": [
      "C:\\Users\\kyles\\.conda\\envs\\Python3\\lib\\site-packages\\sklearn\\linear_model\\sag.py:326: ConvergenceWarning: The max_iter was reached which means the coef_ did not converge\n",
      "  \"the coef_ did not converge\", ConvergenceWarning)\n"
     ]
    },
    {
     "data": {
      "text/plain": [
       "LogisticRegression(C=1.0, class_weight=None, dual=False, fit_intercept=True,\n",
       "          intercept_scaling=1, max_iter=1000, multi_class='ovr', n_jobs=1,\n",
       "          penalty='l2', random_state=None, solver='saga', tol=0.0001,\n",
       "          verbose=0, warm_start=False)"
      ]
     },
     "execution_count": 13,
     "metadata": {},
     "output_type": "execute_result"
    }
   ],
   "source": [
    "iszero.fit(Xtrain,zeros)\n",
    "isone.fit(Xtrain,ones)\n",
    "istwo.fit(Xtrain,twos)\n",
    "isthree.fit(Xtrain,threes)\n",
    "isfour.fit(Xtrain,fours)\n",
    "isfive.fit(Xtrain,fives)\n",
    "issix.fit(Xtrain,sixs)\n",
    "isseven.fit(Xtrain,sevens)\n",
    "iseight.fit(Xtrain,eights)\n",
    "isnine.fit(Xtrain,nines)"
   ]
  },
  {
   "cell_type": "markdown",
   "metadata": {},
   "source": [
    "Once all the models are trained, we are going to test the results on the test set to find our accuracy. For each observation in the test set, we run the image through all ten models. This will give us the probability that an image is a 0, or 1, or 2 and so on. We organize that information into a 2-D numpy where the probability that the image is a `0` is at the zeroth index, `1` at the first index, all the way up to 9. "
   ]
  },
  {
   "cell_type": "code",
   "execution_count": 14,
   "metadata": {},
   "outputs": [
    {
     "data": {
      "text/plain": [
       "(12600, 10)"
      ]
     },
     "execution_count": 14,
     "metadata": {},
     "output_type": "execute_result"
    }
   ],
   "source": [
    "probs = np.array([iszero.predict_proba(Xtest)[:,1], \n",
    "                  isone.predict_proba(Xtest)[:,1],\n",
    "                  istwo.predict_proba(Xtest)[:,1],\n",
    "                  isthree.predict_proba(Xtest)[:,1],\n",
    "                  isfour.predict_proba(Xtest)[:,1],\n",
    "                  isfive.predict_proba(Xtest)[:,1],\n",
    "                  issix.predict_proba(Xtest)[:,1],\n",
    "                  isseven.predict_proba(Xtest)[:,1],\n",
    "                  iseight.predict_proba(Xtest)[:,1],\n",
    "                  isnine.predict_proba(Xtest)[:,1]]).T\n",
    "\n",
    "probs.shape"
   ]
  },
  {
   "cell_type": "markdown",
   "metadata": {},
   "source": [
    "This is what we will get for each image. Below is an example for the 73rd image. We can see that most of the probabilities are very very small, except for the number at index 0 which is 0.9999. This gives us a good indication that the image contains a zero. The next smallest number is at the 8th index with a 0.07. This makes sense because 0's and 8's look somewhat similar. "
   ]
  },
  {
   "cell_type": "code",
   "execution_count": 15,
   "metadata": {},
   "outputs": [
    {
     "name": "stdout",
     "output_type": "stream",
     "text": [
      "[  9.99997637e-01   3.36567381e-18   5.37434716e-04   6.14828265e-08\n",
      "   6.22878777e-11   1.65356990e-08   1.17201096e-01   1.02919072e-06\n",
      "   4.21504601e-02   5.21727754e-09]\n"
     ]
    }
   ],
   "source": [
    "print(probs[73,:])"
   ]
  },
  {
   "cell_type": "markdown",
   "metadata": {},
   "source": [
    "Then we can print out that image and see it is in fact a zero. "
   ]
  },
  {
   "cell_type": "code",
   "execution_count": 16,
   "metadata": {},
   "outputs": [
    {
     "data": {
      "image/png": "[encoded data removed]",
      "text/plain": [
       "<matplotlib.figure.Figure at 0x1fe793f5588>"
      ]
     },
     "metadata": {},
     "output_type": "display_data"
    }
   ],
   "source": [
    "plt.imshow(Xtest.iloc[73,:].values.reshape(28,28),cmap='gray')\n",
    "plt.show()"
   ]
  },
  {
   "cell_type": "markdown",
   "metadata": {},
   "source": [
    "Following that logic, we find the index that has the maximum value for each image with the numpy `argmax()` function. This will give us the final prediction for each element in the test set."
   ]
  },
  {
   "cell_type": "code",
   "execution_count": 17,
   "metadata": {},
   "outputs": [
    {
     "data": {
      "text/plain": [
       "(12600,)"
      ]
     },
     "execution_count": 17,
     "metadata": {},
     "output_type": "execute_result"
    }
   ],
   "source": [
    "predictions = np.argmax(probs, axis = 1)\n",
    "predictions.shape"
   ]
  },
  {
   "cell_type": "markdown",
   "metadata": {},
   "source": [
    "Finally we can calculate our accuracy, which we find by taking the total number of predictions that were correct, out of the total number of images in the test set. And we get a final accuracy of 91%"
   ]
  },
  {
   "cell_type": "code",
   "execution_count": 18,
   "metadata": {},
   "outputs": [
    {
     "name": "stdout",
     "output_type": "stream",
     "text": [
      "The accuracy of the final model is: 0.9106\n"
     ]
    }
   ],
   "source": [
    "print(\"The accuracy of the final model is: {}\".format((predictions == Ytest).mean().round(4)))"
   ]
  },
  {
   "cell_type": "markdown",
   "metadata": {},
   "source": [
    "### **Next Steps**"
   ]
  },
  {
   "cell_type": "markdown",
   "metadata": {
    "collapsed": true
   },
   "source": [
    "This is not so good compared to other algorithms on this problem, but it is a good start. There are a lot of things we did not do in this example to keep things (relatively) simple, but they will be covered in the next tutorial. That can be found here: (http://kyle-stahl-mn.com/computer-vision-2). Some of these step will included: data scaling or normalization, cross validation, and grid search parameter selection. More of the focus will be on the machine learning process, instead of importing the images. We will also explore the relationship between this model, and a simple neural network. "
   ]
  }
 ],
 "metadata": {
  "kernelspec": {
   "display_name": "Python 3",
   "language": "python",
   "name": "python3"
  },
  "language_info": {
   "codemirror_mode": {
    "name": "ipython",
    "version": 3
   },
   "file_extension": ".py",
   "mimetype": "text/x-python",
   "name": "python",
   "nbconvert_exporter": "python",
   "pygments_lexer": "ipython3",
   "version": "3.5.4"
  }
 },
 "nbformat": 4,
 "nbformat_minor": 2
}
